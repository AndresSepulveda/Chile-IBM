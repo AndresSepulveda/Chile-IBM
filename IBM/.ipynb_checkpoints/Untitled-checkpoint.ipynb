{
 "cells": [
  {
   "cell_type": "code",
   "execution_count": 31,
   "metadata": {},
   "outputs": [],
   "source": [
    "import numpy as np\n",
    "import xarray as xr\n",
    "import datetime\n",
    "import netCDF4\n",
    "import cartopy.crs as ccrs\n",
    "from matplotlib import pyplot as plt"
   ]
  },
  {
   "cell_type": "code",
   "execution_count": 58,
   "metadata": {},
   "outputs": [
    {
     "name": "stdout",
     "output_type": "stream",
     "text": [
      "<xarray.DataArray 'sea_water_temperature' (trajectory: 6960, time: 697)>\n",
      "[4851120 values with dtype=float32]\n",
      "Coordinates:\n",
      "  * trajectory  (trajectory) int32 1 2 3 4 5 6 ... 6955 6956 6957 6958 6959 6960\n",
      "  * time        (time) datetime64[ns] 2015-06-01T01:30:00 ... 2015-06-30T01:30:00\n",
      "    lon         (trajectory, time) float32 ...\n",
      "    lat         (trajectory, time) float32 ...\n",
      "Opening testfile <xarray.DataArray 'sea_water_temperature' (trajectory: 6960, time: 697)>\n",
      "[4851120 values with dtype=float32]\n",
      "Coordinates:\n",
      "  * trajectory  (trajectory) int32 1 2 3 4 5 6 ... 6955 6956 6957 6958 6959 6960\n",
      "  * time        (time) datetime64[ns] 2015-06-01T01:30:00 ... 2015-06-30T01:30:00\n",
      "    lon         (trajectory, time) float32 ...\n",
      "    lat         (trajectory, time) float32 ...\n"
     ]
    },
    {
     "data": {
      "image/png": "[encoded data removed]",
      "text/plain": [
       "<Figure size 1008x432 with 1 Axes>"
      ]
     },
     "metadata": {
      "needs_background": "light"
     },
     "output_type": "display_data"
    }
   ],
   "source": [
    "nordic4km='/Volumes/DATASETS/NORDIC4KM*.nc'\n",
    "resultsbase='/Users/trondkr/Dropbox/NIVA/MarMine/MarMine-IBM/results/'\n",
    "testfile=resultsbase+'MarMine_mollusc_opendrift_01062015_to_30062015_novertical.nc'\n",
    "sea_water_temperature = xr.open_dataset(testfile)['sea_water_temperature']\n",
    "\n",
    "plt.figure(figsize=(14,6))\n",
    "ax = plt.axes(projection=ccrs.PlateCarree())\n",
    "ax.set_global()\n",
    "print(sea_water_temperature)\n",
    "#plt.scatter(sea_water_temperature.lon,sea_water_temperature.lat)\n",
    "sea_water_temperature[:,:].plot.pcolormesh(ax=ax, transform=ccrs.PlateCarree(), x='lon', y='lat', add_colorbar=False)\n",
    "\n",
    "\n",
    "print(\"Opening testfile {}\".format(da))\n",
    "#test=da.isel(lon=10,lat=70, method='nearest')"
   ]
  },
  {
   "cell_type": "code",
   "execution_count": null,
   "metadata": {},
   "outputs": [],
   "source": []
  }
 ],
 "metadata": {
  "kernelspec": {
   "display_name": "Python 3",
   "language": "python",
   "name": "python3"
  },
  "language_info": {
   "codemirror_mode": {
    "name": "ipython",
    "version": 3
   },
   "file_extension": ".py",
   "mimetype": "text/x-python",
   "name": "python",
   "nbconvert_exporter": "python",
   "pygments_lexer": "ipython3",
   "version": "3.7.3"
  }
 },
 "nbformat": 4,
 "nbformat_minor": 2
}
